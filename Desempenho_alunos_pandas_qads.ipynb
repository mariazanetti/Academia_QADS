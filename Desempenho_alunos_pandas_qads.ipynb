{
  "nbformat": 4,
  "nbformat_minor": 0,
  "metadata": {
    "colab": {
      "name": "Desempenho_alunos_pandas_qads.ipynb",
      "provenance": [],
      "collapsed_sections": [],
      "toc_visible": true
    },
    "kernelspec": {
      "name": "python3",
      "display_name": "Python 3"
    },
    "language_info": {
      "name": "python"
    }
  },
  "cells": [
    {
      "cell_type": "markdown",
      "metadata": {
        "id": "pF7h8QBle5cm"
      },
      "source": [
        "# Lista Pandas - Desempenho dos Alunos GDF\n",
        "\n",
        "O dataset analisado aqui descreve o desempenho dos alunos da rede pública do Distrito Federal. Nele encontramos as notas bimestrais de todas as matérias oferecidas a cada aluno do GDF, juntamente com informações básicas sobre a escola, o curso e a série do aluno. A fonte dos dados é o portal de dados abertos do GDF.\n",
        "\n",
        "\n"
      ]
    },
    {
      "cell_type": "code",
      "metadata": {
        "id": "5-BrkHKofAOb"
      },
      "source": [
        "import pandas as pd\n",
        "import matplotlib.pyplot as plt\n",
        "import numpy as np\n",
        "\n",
        "import requests as r\n",
        "from zipfile import ZipFile\n",
        "import io\n",
        "\n",
        "import warnings\n",
        "warnings.filterwarnings('ignore')"
      ],
      "execution_count": 1,
      "outputs": []
    },
    {
      "cell_type": "code",
      "metadata": {
        "id": "67KwEsYkfFkO"
      },
      "source": [
        "def get_data(rows=None,download=True) -> pd.core.frame.DataFrame:\n",
        "    \n",
        "    \"\"\" get_data(rows: int=None, download: bool=True) -> pandas.core.frame.DataFrame:\n",
        "        \n",
        "        - Retorna os dados para serem utilizados na resolução da lista. \n",
        "        - Utilize o parâmetro 'download' caso você já possua os dados na sua pasta de trabalho.\n",
        "        \n",
        "        \n",
        "        ** Parâmetros **\n",
        "        ________________\n",
        "        \n",
        "        rows : quantidade de linhas a serem lidas no dataset, padrão é None e representa todo o dataset.\n",
        "        download : define se a função executará o processo de download e extração dos dados, padrão True.\n",
        "        \n",
        "        ** Exemplos **\n",
        "        ________________\n",
        "        \n",
        "        >> df = get_data(rows=100)\n",
        "        >> df.shape\n",
        "        >> (100,23)\n",
        "        \n",
        "        \n",
        "        >> df = get_data(rows=578)\n",
        "        >> df.shape\n",
        "        >> (578,23)\n",
        "        \n",
        "    \"\"\"\n",
        "    \n",
        "    if download == True:\n",
        "            \n",
        "        file_zipped = r.get('http://dados.df.gov.br/dataset/b8436049-44e7-4224-95b4-224718a4b166/resource/3e654a9d-0647-4e39-930e-7cd07faec888/download/dados-abertos---desempenho-escolar20180515160111.zip')  \n",
        "        z = ZipFile(io.BytesIO(file_zipped.content))\n",
        "        z.extractall('.')\n",
        "    \n",
        "    return pd.read_csv('dados abertos - desempenho escolar_20180515_160111.csv',sep=';',encoding='latin-1',nrows=rows)"
      ],
      "execution_count": 2,
      "outputs": []
    },
    {
      "cell_type": "code",
      "metadata": {
        "id": "r-0hTqIlfFiI"
      },
      "source": [
        "df = get_data()"
      ],
      "execution_count": 14,
      "outputs": []
    },
    {
      "cell_type": "markdown",
      "metadata": {
        "id": "rC4_qyGef-wb"
      },
      "source": [
        "1. Quantos alunos diferentes estão matriculados no curso \"Ensino Médio\"?\n",
        "\n",
        "2. Levando em consideração somente os alunos do curso \"Ensino Médio\". Descreva a porcentagem de alunos que foram aprovados e reprovados (aluno aprovado é aquele que tirou 5 ou mais como nota final em todas as matérias cursadas) por série.\n",
        "\n",
        "3. As coordenações regionais são instituições que cuidam das escolas públicas de uma determinada região. Busque dados populacionais de cada coordenação regional e demonstre se há alguma correlação entra a quantidade de alunos de cada coordenação e a população daquela cidade satélite.\n",
        "\n",
        "4. Levando em consideração somente os alunos do curso \"Ensino Médio\". Demonstre a porcentagem de alunos que obtiveram notas finais maiores ou iguais a 8 em Química, Física e Biologia, por coordenação Regional.\n",
        "\n",
        "5. Qual coordenação regional tem a maior quantidade de alunos matriculados no turno diurno do curso \"Ensino Médio\".Considere somente as coordenações regionais que possuem um número acima da média de aprovados.\n",
        "\n",
        "6. Considerando somente alunos do curso \"Ensino Médio\". Os alunos do turno diurno perfomam melhor que os alunos do turno noturno nas matérias de química, física e biologia. (Verdadeiro ou Falso, demonstre com dados).\n",
        "\n"
      ]
    },
    {
      "cell_type": "markdown",
      "metadata": {
        "id": "VYRQv8nXsUAk"
      },
      "source": [
        "### Quantos alunos diferentes estão matriculados no curso \"Ensino Médio\"?"
      ]
    },
    {
      "cell_type": "code",
      "metadata": {
        "colab": {
          "base_uri": "https://localhost:8080/",
          "height": 479
        },
        "id": "7XQYayEC7R2h",
        "outputId": "7bbb13db-13d9-4193-a002-680237753599"
      },
      "source": [
        "df.head()"
      ],
      "execution_count": 34,
      "outputs": [
        {
          "output_type": "execute_result",
          "data": {
            "text/html": [
              "<div>\n",
              "<style scoped>\n",
              "    .dataframe tbody tr th:only-of-type {\n",
              "        vertical-align: middle;\n",
              "    }\n",
              "\n",
              "    .dataframe tbody tr th {\n",
              "        vertical-align: top;\n",
              "    }\n",
              "\n",
              "    .dataframe thead th {\n",
              "        text-align: right;\n",
              "    }\n",
              "</style>\n",
              "<table border=\"1\" class=\"dataframe\">\n",
              "  <thead>\n",
              "    <tr style=\"text-align: right;\">\n",
              "      <th></th>\n",
              "      <th>cod_coordenacao_regional</th>\n",
              "      <th>coordenacao_regional</th>\n",
              "      <th>cod_escola</th>\n",
              "      <th>escola</th>\n",
              "      <th>cod_curso</th>\n",
              "      <th>curso</th>\n",
              "      <th>cod_serie</th>\n",
              "      <th>serie</th>\n",
              "      <th>cod_turno</th>\n",
              "      <th>turno</th>\n",
              "      <th>cod_turma</th>\n",
              "      <th>turma</th>\n",
              "      <th>cod_aluno</th>\n",
              "      <th>bimestre</th>\n",
              "      <th>cod_disciplina</th>\n",
              "      <th>disciplina</th>\n",
              "      <th>nota_bimestral</th>\n",
              "      <th>aulas_bimestre</th>\n",
              "      <th>faltas_bimestre</th>\n",
              "      <th>faltas_justificadas_bimestre</th>\n",
              "      <th>aulas_globalizadas</th>\n",
              "      <th>faltas_globalizadas</th>\n",
              "      <th>faltas_justificadas_globalizadas</th>\n",
              "    </tr>\n",
              "  </thead>\n",
              "  <tbody>\n",
              "    <tr>\n",
              "      <th>0</th>\n",
              "      <td>3</td>\n",
              "      <td>CRE - Plano Piloto</td>\n",
              "      <td>1</td>\n",
              "      <td>CENTRO DE ENSINO FUNDAMENTAL POLIVALENTE</td>\n",
              "      <td>5</td>\n",
              "      <td>Ensino Fundamental de 9 Anos</td>\n",
              "      <td>8</td>\n",
              "      <td>6º Ano</td>\n",
              "      <td>5</td>\n",
              "      <td>Diurno</td>\n",
              "      <td>100329.0</td>\n",
              "      <td>6º ANO B</td>\n",
              "      <td>-8376490126953895597</td>\n",
              "      <td>1</td>\n",
              "      <td>22</td>\n",
              "      <td>Projeto Interdisciplinar I</td>\n",
              "      <td>9.0</td>\n",
              "      <td>10.0</td>\n",
              "      <td>0.0</td>\n",
              "      <td>0.0</td>\n",
              "      <td>NaN</td>\n",
              "      <td>NaN</td>\n",
              "      <td>NaN</td>\n",
              "    </tr>\n",
              "    <tr>\n",
              "      <th>1</th>\n",
              "      <td>3</td>\n",
              "      <td>CRE - Plano Piloto</td>\n",
              "      <td>1</td>\n",
              "      <td>CENTRO DE ENSINO FUNDAMENTAL POLIVALENTE</td>\n",
              "      <td>5</td>\n",
              "      <td>Ensino Fundamental de 9 Anos</td>\n",
              "      <td>8</td>\n",
              "      <td>6º Ano</td>\n",
              "      <td>5</td>\n",
              "      <td>Diurno</td>\n",
              "      <td>100329.0</td>\n",
              "      <td>6º ANO B</td>\n",
              "      <td>-8376490126953895597</td>\n",
              "      <td>2</td>\n",
              "      <td>22</td>\n",
              "      <td>Projeto Interdisciplinar I</td>\n",
              "      <td>8.3</td>\n",
              "      <td>10.0</td>\n",
              "      <td>0.0</td>\n",
              "      <td>0.0</td>\n",
              "      <td>NaN</td>\n",
              "      <td>NaN</td>\n",
              "      <td>NaN</td>\n",
              "    </tr>\n",
              "    <tr>\n",
              "      <th>2</th>\n",
              "      <td>3</td>\n",
              "      <td>CRE - Plano Piloto</td>\n",
              "      <td>1</td>\n",
              "      <td>CENTRO DE ENSINO FUNDAMENTAL POLIVALENTE</td>\n",
              "      <td>5</td>\n",
              "      <td>Ensino Fundamental de 9 Anos</td>\n",
              "      <td>8</td>\n",
              "      <td>6º Ano</td>\n",
              "      <td>5</td>\n",
              "      <td>Diurno</td>\n",
              "      <td>100329.0</td>\n",
              "      <td>6º ANO B</td>\n",
              "      <td>-8376490126953895597</td>\n",
              "      <td>3</td>\n",
              "      <td>22</td>\n",
              "      <td>Projeto Interdisciplinar I</td>\n",
              "      <td>6.5</td>\n",
              "      <td>10.0</td>\n",
              "      <td>0.0</td>\n",
              "      <td>0.0</td>\n",
              "      <td>NaN</td>\n",
              "      <td>NaN</td>\n",
              "      <td>NaN</td>\n",
              "    </tr>\n",
              "    <tr>\n",
              "      <th>3</th>\n",
              "      <td>3</td>\n",
              "      <td>CRE - Plano Piloto</td>\n",
              "      <td>1</td>\n",
              "      <td>CENTRO DE ENSINO FUNDAMENTAL POLIVALENTE</td>\n",
              "      <td>5</td>\n",
              "      <td>Ensino Fundamental de 9 Anos</td>\n",
              "      <td>8</td>\n",
              "      <td>6º Ano</td>\n",
              "      <td>5</td>\n",
              "      <td>Diurno</td>\n",
              "      <td>100329.0</td>\n",
              "      <td>6º ANO B</td>\n",
              "      <td>-8376490126953895597</td>\n",
              "      <td>4</td>\n",
              "      <td>22</td>\n",
              "      <td>Projeto Interdisciplinar I</td>\n",
              "      <td>9.5</td>\n",
              "      <td>9.0</td>\n",
              "      <td>0.0</td>\n",
              "      <td>0.0</td>\n",
              "      <td>NaN</td>\n",
              "      <td>NaN</td>\n",
              "      <td>NaN</td>\n",
              "    </tr>\n",
              "    <tr>\n",
              "      <th>4</th>\n",
              "      <td>3</td>\n",
              "      <td>CRE - Plano Piloto</td>\n",
              "      <td>1</td>\n",
              "      <td>CENTRO DE ENSINO FUNDAMENTAL POLIVALENTE</td>\n",
              "      <td>5</td>\n",
              "      <td>Ensino Fundamental de 9 Anos</td>\n",
              "      <td>8</td>\n",
              "      <td>6º Ano</td>\n",
              "      <td>5</td>\n",
              "      <td>Diurno</td>\n",
              "      <td>100329.0</td>\n",
              "      <td>6º ANO B</td>\n",
              "      <td>-8376490126953895597</td>\n",
              "      <td>resultado final</td>\n",
              "      <td>22</td>\n",
              "      <td>Projeto Interdisciplinar I</td>\n",
              "      <td>8.5</td>\n",
              "      <td>NaN</td>\n",
              "      <td>NaN</td>\n",
              "      <td>NaN</td>\n",
              "      <td>NaN</td>\n",
              "      <td>NaN</td>\n",
              "      <td>NaN</td>\n",
              "    </tr>\n",
              "  </tbody>\n",
              "</table>\n",
              "</div>"
            ],
            "text/plain": [
              "   cod_coordenacao_regional  ... faltas_justificadas_globalizadas\n",
              "0                         3  ...                              NaN\n",
              "1                         3  ...                              NaN\n",
              "2                         3  ...                              NaN\n",
              "3                         3  ...                              NaN\n",
              "4                         3  ...                              NaN\n",
              "\n",
              "[5 rows x 23 columns]"
            ]
          },
          "metadata": {
            "tags": []
          },
          "execution_count": 34
        }
      ]
    },
    {
      "cell_type": "code",
      "metadata": {
        "colab": {
          "base_uri": "https://localhost:8080/"
        },
        "id": "ckpTyUC3CSp0",
        "outputId": "afa0521a-5368-4fbe-965b-56aa70846461"
      },
      "source": [
        "df.curso.unique()"
      ],
      "execution_count": 5,
      "outputs": [
        {
          "output_type": "execute_result",
          "data": {
            "text/plain": [
              "array(['Ensino Fundamental de 9 Anos', 'Ensino Médio',\n",
              "       'Educação Infantil', 'Educação Infantil -  Especial',\n",
              "       'Ensino Fundamental de 9 Anos - Especial',\n",
              "       'Ensino Médio - Especial', 'Ensino Fundamental Socioeducação',\n",
              "       'Ensino Médio - Socioeducação'], dtype=object)"
            ]
          },
          "metadata": {
            "tags": []
          },
          "execution_count": 5
        }
      ]
    },
    {
      "cell_type": "code",
      "metadata": {
        "id": "y9p3Xmbg-IQ4",
        "colab": {
          "base_uri": "https://localhost:8080/"
        },
        "outputId": "5d1c2931-5a25-49a9-c835-312f6209c71f"
      },
      "source": [
        "# Selecionando apenas o Ensino Médio\n",
        "df = df[df.curso\t== \"Ensino Médio\"]\n",
        "# Pode excluir porque é só para contar o número de alunos diferentes\n",
        "df = df.drop_duplicates('cod_aluno')\n",
        "alunos = len(df['cod_aluno'])\n",
        "alunos\n",
        "\n",
        "print(f' O número de alunos matriculados no Ensino Médio é: {alunos}')"
      ],
      "execution_count": 12,
      "outputs": [
        {
          "output_type": "stream",
          "text": [
            " O número de alunos matriculados no Ensino Médio é: 81712\n"
          ],
          "name": "stdout"
        }
      ]
    },
    {
      "cell_type": "markdown",
      "metadata": {
        "id": "8vnODhTTvOPk"
      },
      "source": [
        "### Levando em consideração somente os alunos do curso \"Ensino Médio\". Descreva a porcentagem de alunos que foram aprovados e reprovados (aluno aprovado é aquele que tirou 5 ou mais como nota final em todas as matérias cursadas) por série."
      ]
    },
    {
      "cell_type": "code",
      "metadata": {
        "colab": {
          "base_uri": "https://localhost:8080/"
        },
        "id": "qaEJZv21QIaQ",
        "outputId": "e52f0d5d-2ac9-41f4-e0ee-2db43412ccbd"
      },
      "source": [
        "def corrigir_nota(value):\n",
        "  if value > 10:\n",
        "    return value / 10\n",
        "  else:\n",
        "    return value\n",
        "\n",
        "for serie in df[df.curso== 'Ensino Médio'].serie.unique():\n",
        "  qtd_total_de_alunos = df[(df.curso == 'Ensino Médio')&(df.serie == serie)].cod_aluno.nunique()\n",
        "\n",
        "  aprovados = (((\n",
        "    \n",
        "    df[(df.curso == 'Ensino Médio')&(df.bimestre== 'resultado final')&(df.serie == serie)]\n",
        "    .loc[:,['cod_aluno','serie', 'disciplina', 'nota_bimestral']]\n",
        "    .assign(nota_bimestral = lambda x: x.nota_bimestral.apply(corrigir_nota))\n",
        "    .pivot_table(index='cod_aluno', columns='disciplina', values='nota_bimestral',aggfunc='max')\n",
        "    .fillna(0)\n",
        "  ) >= 5).sum(axis=1) >= 14).sum() # Considerando a partir de 14 disciplinas (tirando os 3 projetos)\n",
        "\n",
        "  print(f'A porcentagem de alunos na {serie} aprovados é de {round((aprovados/qtd_total_de_alunos)*100,2)}%')\n",
        "  print(f'A porcentagem de alunos na {serie} reprovados é de {round((1 - aprovados/qtd_total_de_alunos)*100,2)}%')"
      ],
      "execution_count": 76,
      "outputs": [
        {
          "output_type": "stream",
          "text": [
            "A porcentagem de alunos na 1ª Série aprovados é de 63.19%\n",
            "A porcentagem de alunos na 1ª Série reprovados é de 36.81%\n",
            "A porcentagem de alunos na 2ª Série aprovados é de 69.8%\n",
            "A porcentagem de alunos na 2ª Série reprovados é de 30.2%\n",
            "A porcentagem de alunos na 3ª Série aprovados é de 76.83%\n",
            "A porcentagem de alunos na 3ª Série reprovados é de 23.17%\n"
          ],
          "name": "stdout"
        }
      ]
    },
    {
      "cell_type": "markdown",
      "metadata": {
        "id": "UeZAIHPwxEfC"
      },
      "source": [
        "### As coordenações regionais são instituições que cuidam das escolas públicas de uma determinada região. Busque dados populacionais de cada coordenação regional e demonstre se há alguma correlação entra a quantidade de alunos de cada coordenação e a população daquela cidade satélite."
      ]
    },
    {
      "cell_type": "code",
      "metadata": {
        "id": "yfd-wZsvuYLW"
      },
      "source": [
        "populacao = pd.read_html ('https://pt.wikipedia.org/wiki/Lista_de_regi%C3%B5es_administrativas_do_Distrito_Federal_por_popula%C3%A7%C3%A3o')[0]"
      ],
      "execution_count": 37,
      "outputs": []
    },
    {
      "cell_type": "code",
      "metadata": {
        "colab": {
          "base_uri": "https://localhost:8080/",
          "height": 111
        },
        "id": "-hkLerjZbeXV",
        "outputId": "dee5758c-e72b-4546-e973-068b88fe6a35"
      },
      "source": [
        "# Remove o \"CRE\"\n",
        "def remove_cre(value):\n",
        "  return value[6:]\n",
        "\n",
        "# Remove os espaços em branco e transforma str em int\n",
        "def remove_whitespace(value):\n",
        "  str_split = value.split()\n",
        "  return int(''.join(str_split))\n",
        "\n",
        "(\n",
        "    df[['cod_aluno', 'coordenacao_regional']]\n",
        "    .drop_duplicates(subset=['cod_aluno'])\n",
        "    .groupby('coordenacao_regional')\n",
        "    .count()\n",
        "    .reset_index()\n",
        "    .assign(sem_cre = lambda x: x.coordenacao_regional.apply(remove_cre)) # usando a função para remover o \"CRE\"\n",
        "    .drop('coordenacao_regional',axis=1)\n",
        "    .rename(columns={'sem_cre': 'Região administrativa','cod_aluno': 'qtd_alunos'})\n",
        "    .merge(populacao[['Região administrativa','População']],on='Região administrativa', how='inner')\n",
        "    .assign(População = lambda x: x.População.apply(remove_whitespace))\n",
        "    .loc[:,['qtd_alunos', 'População']]\n",
        "    .corr()\n",
        "\n",
        "\n",
        ")"
      ],
      "execution_count": 41,
      "outputs": [
        {
          "output_type": "execute_result",
          "data": {
            "text/html": [
              "<div>\n",
              "<style scoped>\n",
              "    .dataframe tbody tr th:only-of-type {\n",
              "        vertical-align: middle;\n",
              "    }\n",
              "\n",
              "    .dataframe tbody tr th {\n",
              "        vertical-align: top;\n",
              "    }\n",
              "\n",
              "    .dataframe thead th {\n",
              "        text-align: right;\n",
              "    }\n",
              "</style>\n",
              "<table border=\"1\" class=\"dataframe\">\n",
              "  <thead>\n",
              "    <tr style=\"text-align: right;\">\n",
              "      <th></th>\n",
              "      <th>qtd_alunos</th>\n",
              "      <th>População</th>\n",
              "    </tr>\n",
              "  </thead>\n",
              "  <tbody>\n",
              "    <tr>\n",
              "      <th>qtd_alunos</th>\n",
              "      <td>1.000000</td>\n",
              "      <td>0.937452</td>\n",
              "    </tr>\n",
              "    <tr>\n",
              "      <th>População</th>\n",
              "      <td>0.937452</td>\n",
              "      <td>1.000000</td>\n",
              "    </tr>\n",
              "  </tbody>\n",
              "</table>\n",
              "</div>"
            ],
            "text/plain": [
              "            qtd_alunos  População\n",
              "qtd_alunos    1.000000   0.937452\n",
              "População     0.937452   1.000000"
            ]
          },
          "metadata": {
            "tags": []
          },
          "execution_count": 41
        }
      ]
    },
    {
      "cell_type": "markdown",
      "metadata": {
        "id": "68GkqrUvM1J1"
      },
      "source": [
        "### Levando em consideração somente os alunos do curso \"Ensino Médio\". Demonstre a porcentagem de alunos que obtiveram notas finais maiores ou iguais a 8 em Química, Física e Biologia, por coordenação Regional."
      ]
    },
    {
      "cell_type": "code",
      "metadata": {
        "colab": {
          "base_uri": "https://localhost:8080/"
        },
        "id": "VXUgS53vTN6r",
        "outputId": "6089da30-6255-4852-83e0-fa025c44698b"
      },
      "source": [
        "# Corrigindo as notas que estão em padrões diferentes\n",
        "def corrigir_nota(value):\n",
        "  if value > 10:\n",
        "    return value / 10\n",
        "  else:\n",
        "    return value\n",
        "\n",
        "# Fazer um for para separar por coordenação regional\n",
        "for cidade in df[df.curso == 'Ensino Médio'].coordenacao_regional.unique():\n",
        "  qtd_total_de_alunos = df[(df.curso == 'Ensino Médio')&(df.coordenacao_regional == cidade)].cod_aluno.nunique()\n",
        "\n",
        "\n",
        "  aprovados = (((\n",
        "    df[(df.curso\t== \"Ensino Médio\")&(df.bimestre == 'resultado final')&(df.coordenacao_regional == cidade)]\n",
        "    .loc[:,['cod_aluno','coordenacao_regional','disciplina', 'nota_bimestral']]\n",
        "    .assign(nota_bimestral = lambda x: x.nota_bimestral.apply(corrigir_nota))\n",
        "    .pivot_table(index= 'cod_aluno', columns='disciplina', values='nota_bimestral', aggfunc='max')\n",
        "    .loc[:, ['Biologia', 'Física', 'Química']]\n",
        "    .fillna(0)\n",
        "\n",
        "  ) >= 8).sum(axis=1) == 3).sum()\n",
        "\n",
        "  print(f'A porcentagem de alunos com nota maior ou igual a 8 em Biologia, Física e Química em {cidade} é de {round((aprovados/qtd_total_de_alunos)*100,2)}%')"
      ],
      "execution_count": 110,
      "outputs": [
        {
          "output_type": "stream",
          "text": [
            "A porcentagem de alunos com nota maior ou igual a 8 em Biologia, Física e Química em CRE - Brazlândia é de 10.74%\n",
            "A porcentagem de alunos com nota maior ou igual a 8 em Biologia, Física e Química em CRE - Ceilândia é de 14.21%\n",
            "A porcentagem de alunos com nota maior ou igual a 8 em Biologia, Física e Química em CRE - Gama é de 9.15%\n",
            "A porcentagem de alunos com nota maior ou igual a 8 em Biologia, Física e Química em CRE - Núcleo Bandeirante é de 12.15%\n",
            "A porcentagem de alunos com nota maior ou igual a 8 em Biologia, Física e Química em CRE - Planaltina é de 8.39%\n",
            "A porcentagem de alunos com nota maior ou igual a 8 em Biologia, Física e Química em CRE - Sobradinho é de 10.14%\n",
            "A porcentagem de alunos com nota maior ou igual a 8 em Biologia, Física e Química em CRE - Recanto das Emas é de 12.84%\n",
            "A porcentagem de alunos com nota maior ou igual a 8 em Biologia, Física e Química em CRE - Samambaia é de 14.15%\n",
            "A porcentagem de alunos com nota maior ou igual a 8 em Biologia, Física e Química em CRE - Paranoá é de 16.55%\n",
            "A porcentagem de alunos com nota maior ou igual a 8 em Biologia, Física e Química em CRE - Santa Maria é de 10.53%\n",
            "A porcentagem de alunos com nota maior ou igual a 8 em Biologia, Física e Química em CRE - Plano Piloto é de 8.9%\n",
            "A porcentagem de alunos com nota maior ou igual a 8 em Biologia, Física e Química em CRE - Taguatinga é de 9.16%\n",
            "A porcentagem de alunos com nota maior ou igual a 8 em Biologia, Física e Química em CRE - Guará é de 15.6%\n",
            "A porcentagem de alunos com nota maior ou igual a 8 em Biologia, Física e Química em CRE - São Sebastião é de 15.12%\n"
          ],
          "name": "stdout"
        }
      ]
    },
    {
      "cell_type": "markdown",
      "metadata": {
        "id": "I1rJRtY-q1QP"
      },
      "source": [
        "### Qual coordenação regional tem a maior quantidade de alunos matriculados no turno diurno do curso \"Ensino Médio\".Considere somente as coordenações regionais que possuem um número acima da média de aprovados."
      ]
    },
    {
      "cell_type": "code",
      "metadata": {
        "colab": {
          "base_uri": "https://localhost:8080/"
        },
        "id": "v3GiSjFn1Y-C",
        "outputId": "e4a9270b-0ac0-4e29-c026-9c10a647b983"
      },
      "source": [
        "# Corrigindo as notas que estão em padrões diferentes\n",
        "def corrigir(valor):\n",
        "    if valor>10:\n",
        "        return valor/10\n",
        "    else:\n",
        "        return valor\n",
        "\n",
        "# Calcula a média de aprovados\n",
        "aprovados = (\n",
        "        df[['coordenacao_regional','curso','bimestre','nota_bimestral','cod_aluno']]\n",
        "        [df.curso == 'Ensino Médio']\n",
        "        [df.bimestre == 'resultado final']\n",
        "        .assign(aprovado = lambda x: x.nota_bimestral.apply(corrigir) >= 5)\n",
        "        .groupby(['coordenacao_regional','cod_aluno'])\n",
        "        .agg(disciplinas_aprovado=('aprovado', 'sum'))\n",
        "        .assign(aprovado = lambda x: x.disciplinas_aprovado >= 14)\n",
        "        .groupby('coordenacao_regional')\n",
        "        ['aprovado']\n",
        "        .sum()\n",
        "\n",
        ")\n",
        "print(f'A média de aprovados é {round(aprovados.mean())}\\n')\n",
        "\n",
        "# Separa as coordenações que estão acima da média\n",
        "acima_da_media = (\n",
        "        df\n",
        "        .coordenacao_regional\n",
        "        .isin(\n",
        "            aprovados\n",
        "            [aprovados > aprovados.mean()]\n",
        "            .index\n",
        "        )   \n",
        ")\n",
        "\n",
        "# Mostra apenas as coordenações que estão acima da média e a quantidade de alunos matriculados no Ensino Médio no turno diurno\n",
        "acima_da_media_diurno =(\n",
        "        df[acima_da_media]\n",
        "        [df.turno == 'Diurno']\n",
        "        [df.curso == 'Ensino Médio']\n",
        "        [['coordenacao_regional', 'cod_aluno']]\n",
        "        .groupby('coordenacao_regional')\n",
        "        .agg(alunos=('cod_aluno', 'nunique'))\n",
        "        .sort_values(by='alunos', ascending =False)\n",
        "        .reset_index()\n",
        "\n",
        ")\n",
        "print(f'Coordenações Regionais que têm o número de alunos aprovados maior que a média (turno diurno):')\n",
        "print(acima_da_media_diurno)\n",
        "\n",
        "resultado = pd.DataFrame(acima_da_media_diurno)\n",
        "resultado[['alunos']].values[0][0]\n",
        "\n",
        "print(f'\\nA coordenação regional com a maior quantidade de alunos matriculados no turno diurno do curso \"Ensino Médio\" é: {resultado.values[0][0]}')"
      ],
      "execution_count": 18,
      "outputs": [
        {
          "output_type": "stream",
          "text": [
            "A média de aprovados é 4017\n",
            "\n",
            "Coordenações Regionais que têm o número de alunos aprovados maior que a média (turno diurno):\n",
            "  coordenacao_regional  alunos\n",
            "0      CRE - Ceilândia   12490\n",
            "1     CRE - Taguatinga    9442\n",
            "2   CRE - Plano Piloto    8493\n",
            "3     CRE - Planaltina    5700\n",
            "\n",
            "A coordenação regional com a maior quantidade de alunos matriculados no turno diurno do curso \"Ensino Médio\" é: CRE - Ceilândia\n"
          ],
          "name": "stdout"
        }
      ]
    },
    {
      "cell_type": "markdown",
      "metadata": {
        "id": "D7LhSFpVBtgh"
      },
      "source": [
        "### Considerando somente alunos do curso \"Ensino Médio\". Os alunos do turno diurno perfomam melhor que os alunos do turno noturno nas matérias de química, física e biologia. (Verdadeiro ou Falso, demonstre com dados)."
      ]
    },
    {
      "cell_type": "code",
      "metadata": {
        "colab": {
          "base_uri": "https://localhost:8080/"
        },
        "id": "FOIsj-zMBvud",
        "outputId": "60461fdb-c921-4307-bcd8-c0e147a89910"
      },
      "source": [
        "# Corrigindo as notas que estão em padrões diferentes\n",
        "def corrigir_nota(value):\n",
        "  if value > 10:\n",
        "    return value / 10\n",
        "  else:\n",
        "    return value\n",
        "\n",
        "\n",
        "# Fazer um for para separar por turno\n",
        "for x in df[df.curso == 'Ensino Médio'].turno.unique():\n",
        "  qtd_total_de_alunos = df[(df.curso == 'Ensino Médio')&(df.turno == x)].cod_aluno.nunique()\n",
        "\n",
        "# Testando os aprovados\n",
        "  aprovados = (((\n",
        "    df[(df.curso\t== \"Ensino Médio\")&(df.bimestre == 'resultado final')&(df.turno == x)]\n",
        "    .loc[:,['cod_aluno','disciplina', 'nota_bimestral','turno']]\n",
        "    .assign(nota_bimestral = lambda x: x.nota_bimestral.apply(corrigir_nota))\n",
        "    .pivot_table(index= 'cod_aluno', columns='disciplina', values='nota_bimestral', aggfunc='max')\n",
        "    .loc[:, ['Biologia', 'Física', 'Química']] # Seleciona apenas as 3 disciplinas\n",
        "    .fillna(0)\n",
        "\n",
        "  ) >= 5).sum(axis=1) == 3).sum()\n",
        "\n",
        "  print(f'A porcentagem de alunos aprovados em Biologia, Física e Química no período {x} é de {round((aprovados/qtd_total_de_alunos)*100,2)}%')\n",
        "\n",
        "# Testando a quantidade de alunos com notas maiores ou iguais a 8 \n",
        "  desempenho = (((\n",
        "    df[(df.curso\t== \"Ensino Médio\")&(df.bimestre == 'resultado final')&(df.turno == x)]\n",
        "    .loc[:,['cod_aluno','disciplina', 'nota_bimestral','turno']]\n",
        "    .assign(nota_bimestral = lambda x: x.nota_bimestral.apply(corrigir_nota))\n",
        "    .pivot_table(index= 'cod_aluno', columns='disciplina', values='nota_bimestral', aggfunc='max')\n",
        "    .loc[:, ['Biologia', 'Física', 'Química']]\n",
        "    .fillna(0)\n",
        "\n",
        "  ) >= 8).sum(axis=1) == 3).sum()\n",
        "\n",
        "  print(f'A porcentagem de alunos com nota maior ou igual a 8 em Biologia, Física e Química no período {x} é de {round((desempenho/qtd_total_de_alunos)*100,2)}%')\n",
        "\n",
        "print('\\nFalso. Ainda que a porcentagem de alunos aprovados no período turno diurno seja superior, a diferença é pequena. Os alunos do período noturno, por sua vez, mostram um desemepenho consideravelmente superior quando analisamos as notas maiores ou iguais a 8.')"
      ],
      "execution_count": 59,
      "outputs": [
        {
          "output_type": "stream",
          "text": [
            "A porcentagem de alunos aprovados em Biologia, Física e Química no período Diurno é de 77.33%\n",
            "A porcentagem de alunos com nota maior ou igual a 8 em Biologia, Física e Química no período Diurno é de 9.54%\n",
            "A porcentagem de alunos aprovados em Biologia, Física e Química no período Noturno é de 74.26%\n",
            "A porcentagem de alunos com nota maior ou igual a 8 em Biologia, Física e Química no período Noturno é de 30.95%\n",
            "\n",
            "Falso. Ainda que a porcentagem de alunos aprovados no período turno diurno seja superior, a diferença é pequena. Os alunos do período noturno, por sua vez, mostram um desemepenho consideravelmente superior quando analisamos as notas maiores ou iguais a 8.\n"
          ],
          "name": "stdout"
        }
      ]
    },
    {
      "cell_type": "code",
      "metadata": {
        "id": "ebkUIU-pxGmu"
      },
      "source": [
        ""
      ],
      "execution_count": null,
      "outputs": []
    }
  ]
}